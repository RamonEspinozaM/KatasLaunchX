{
 "cells": [
  {
   "cell_type": "markdown",
   "metadata": {},
   "source": [
    "## Ejercicio 1 - Operadores aritméticos"
   ]
  },
  {
   "cell_type": "code",
   "execution_count": 1,
   "metadata": {},
   "outputs": [],
   "source": [
    "#Distancias\n",
    "DistTierra=149597870\n",
    "DistJupiter=778547200\n"
   ]
  },
  {
   "cell_type": "code",
   "execution_count": 7,
   "metadata": {},
   "outputs": [
    {
     "name": "stdout",
     "output_type": "stream",
     "text": [
      "La disatncia entre la Tierra y Jupiter es: 628949330\n",
      "La disatncia entre la Tierra y Jupiter en millas es: 390577534\n"
     ]
    }
   ],
   "source": [
    "#Operaciones\n",
    "DistPlanetas=DistJupiter-DistTierra\n",
    "DistPlanetasMillas=DistPlanetas*0.621\n",
    "#Datos obtenidos\n",
    "print(\"La disatncia entre la Tierra y Jupiter en Km es:\", DistPlanetas )\n",
    "print(\"La disatncia entre la Tierra y Jupiter en millas es:\", round(DistPlanetasMillas) )"
   ]
  },
  {
   "cell_type": "markdown",
   "metadata": {},
   "source": [
    "## Ejercicio 2 - Convertir cadenas en números y usar valores absolutos"
   ]
  },
  {
   "cell_type": "code",
   "execution_count": 11,
   "metadata": {},
   "outputs": [
    {
     "name": "stdout",
     "output_type": "stream",
     "text": [
      "Distancias de los planetas al Sol\n",
      "Ingrese la distancia del Planeta 1\n",
      "Ingrese la distancia del Planeta 2\n"
     ]
    }
   ],
   "source": [
    "#Distacias de los planetas al sol\n",
    "print(\"Distancias de los planetas al Sol\")\n",
    "print(\"Ingrese la distancia del Planeta 1\")\n",
    "Planeta1=input()\n",
    "print(\"Ingrese la distancia del Planeta 2\")\n",
    "Planeta2=input()\n"
   ]
  },
  {
   "cell_type": "code",
   "execution_count": 12,
   "metadata": {},
   "outputs": [],
   "source": [
    "#Pasar los datos a valores numericos\n",
    "Planeta1=int(Planeta1)\n",
    "Planeta2=int(Planeta2)"
   ]
  },
  {
   "cell_type": "code",
   "execution_count": 15,
   "metadata": {},
   "outputs": [
    {
     "name": "stdout",
     "output_type": "stream",
     "text": [
      "La distancia entre los planetas en Km es:  50300000\n",
      "La distancia entre los planetas en Millas es:  31236300\n"
     ]
    }
   ],
   "source": [
    "#Operaciones\n",
    "DistanciaKm=abs(Planeta1-Planeta2)\n",
    "DistanciaMillas=DistanciaKm*0.621\n",
    "#Valores obtenidos\n",
    "print(\"La distancia entre los planetas en Km es: \",DistanciaKm )\n",
    "print(\"La distancia entre los planetas en Millas es: \",round(DistanciaMillas) )"
   ]
  }
 ],
 "metadata": {
  "interpreter": {
   "hash": "b89b5cfaba6639976dc87ff2fec6d58faec662063367e2c229c520fe71072417"
  },
  "kernelspec": {
   "display_name": "Python 3.10.2 64-bit",
   "language": "python",
   "name": "python3"
  },
  "language_info": {
   "codemirror_mode": {
    "name": "ipython",
    "version": 3
   },
   "file_extension": ".py",
   "mimetype": "text/x-python",
   "name": "python",
   "nbconvert_exporter": "python",
   "pygments_lexer": "ipython3",
   "version": "3.10.2"
  },
  "orig_nbformat": 4
 },
 "nbformat": 4,
 "nbformat_minor": 2
}
