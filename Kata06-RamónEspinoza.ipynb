{
 "cells": [
  {
   "cell_type": "markdown",
   "metadata": {},
   "source": [
    "## Ejercicio 1 - Crear y usar listas de Python"
   ]
  },
  {
   "cell_type": "code",
   "execution_count": 1,
   "metadata": {},
   "outputs": [],
   "source": [
    "#Lista de planetas\n",
    "Planetas=['Mercurio', 'Venus', 'Tierra', 'Marte', 'Júpiter', 'Saturno', 'Urano' , 'Neptuno']"
   ]
  },
  {
   "cell_type": "code",
   "execution_count": 3,
   "metadata": {},
   "outputs": [
    {
     "name": "stdout",
     "output_type": "stream",
     "text": [
      "El numero de planetas en el sistema solar es:  8\n",
      "['Mercurio', 'Venus', 'Tierra', 'Marte', 'Júpiter', 'Saturno', 'Urano', 'Neptuno']\n"
     ]
    }
   ],
   "source": [
    "#Numero de planetas\n",
    "Nplanetas=len(Planetas)\n",
    "print(\"El numero de planetas en el sistema solar es: \",Nplanetas)\n",
    "print(Planetas)"
   ]
  },
  {
   "cell_type": "code",
   "execution_count": 5,
   "metadata": {},
   "outputs": [
    {
     "name": "stdout",
     "output_type": "stream",
     "text": [
      "El numero de planetas es: 9\n",
      "El ultimo planeta de la lista es: Pluton\n"
     ]
    }
   ],
   "source": [
    "#Agregando elementos a la lista\n",
    "Planetas.append('Pluton')\n",
    "Nplanetas=len(Planetas)\n",
    "print(\"El numero de planetas es:\" ,Nplanetas)\n",
    "print(\"El ultimo planeta de la lista es:\" ,Planetas[-1])"
   ]
  },
  {
   "cell_type": "markdown",
   "metadata": {},
   "source": [
    "## Ejercicio 2 - Trabajando con datos de una lista "
   ]
  },
  {
   "cell_type": "code",
   "execution_count": 6,
   "metadata": {},
   "outputs": [],
   "source": [
    "#Lista de planetas\n",
    "Planetas1=['Mercurio', 'Venus', 'Tierra', 'Marte', 'Júpiter', 'Saturno', 'Urano' , 'Neptuno']"
   ]
  },
  {
   "cell_type": "code",
   "execution_count": 8,
   "metadata": {},
   "outputs": [
    {
     "name": "stdout",
     "output_type": "stream",
     "text": [
      "Ingrese el nombre de un planeta(Comenzando con Mayuscula)\n"
     ]
    }
   ],
   "source": [
    "#Ingreso de informacion por parte del usuario\n",
    "print(\"Ingrese el nombre de un planeta(Comenzando con Mayuscula)\")\n",
    "planeta=input()"
   ]
  },
  {
   "cell_type": "code",
   "execution_count": 18,
   "metadata": {},
   "outputs": [
    {
     "name": "stdout",
     "output_type": "stream",
     "text": [
      "Los planetas antes de  Marte son:\n",
      "['Mercurio', 'Venus', 'Tierra']\n"
     ]
    }
   ],
   "source": [
    "planeta_index=Planetas1.index(planeta)\n",
    "#Planeta mas cecanos\n",
    "planetasMasCerca=Planetas1[0:planeta_index]\n",
    "print(\"Los planetas antes de \", planeta, \" mas cercanos al sol son:\")\n",
    "print(planetasMasCerca)"
   ]
  },
  {
   "cell_type": "code",
   "execution_count": 1,
   "metadata": {},
   "outputs": [],
   "source": [
    "#Planetas mas lejanos\n",
    "planetasMasLejanos=Planetas1[planeta_index+1:]\n",
    "print(\"Los planetas despues de \", planeta, \" son:\")\n",
    "print(planetasMasLejanos)"
   ]
  }
 ],
 "metadata": {
  "interpreter": {
   "hash": "b89b5cfaba6639976dc87ff2fec6d58faec662063367e2c229c520fe71072417"
  },
  "kernelspec": {
   "display_name": "Python 3.10.2 64-bit",
   "language": "python",
   "name": "python3"
  },
  "language_info": {
   "codemirror_mode": {
    "name": "ipython",
    "version": 3
   },
   "file_extension": ".py",
   "mimetype": "text/x-python",
   "name": "python",
   "nbconvert_exporter": "python",
   "pygments_lexer": "ipython3",
   "version": "3.10.2"
  },
  "orig_nbformat": 4
 },
 "nbformat": 4,
 "nbformat_minor": 2
}
