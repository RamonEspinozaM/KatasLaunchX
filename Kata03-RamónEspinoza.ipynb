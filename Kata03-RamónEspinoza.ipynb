{
 "cells": [
  {
   "cell_type": "markdown",
   "metadata": {},
   "source": [
    "## Ejercicio 1"
   ]
  },
  {
   "cell_type": "code",
   "execution_count": 3,
   "metadata": {},
   "outputs": [
    {
     "name": "stdout",
     "output_type": "stream",
     "text": [
      "Asteroide acercandose demasiado rapido\n"
     ]
    }
   ],
   "source": [
    "VelAsteroide=49\n",
    "if VelAsteroide > 25:\n",
    "    print(\"Asteroide acercandose demasiado rapido\")\n",
    "else:\n",
    "    print(\"Asteroide a baja velocidad\")"
   ]
  },
  {
   "cell_type": "markdown",
   "metadata": {},
   "source": [
    "## Ejercicio 2"
   ]
  },
  {
   "cell_type": "code",
   "execution_count": 7,
   "metadata": {},
   "outputs": [
    {
     "name": "stdout",
     "output_type": "stream",
     "text": [
      "No hay nada en el cielo\n"
     ]
    }
   ],
   "source": [
    "VelAsteroide=19\n",
    "if VelAsteroide > 20:\n",
    "    print (\"En el cielo puedes ver la luz de un asteroide que va a una velocidad mayor de 20 km\\h\")\n",
    "elif VelAsteroide == 20:\n",
    "    print (\"c que va a una velocidad de 20 km\\h\")\n",
    "else:\n",
    "    print (\"No hay nada en el cielo\")"
   ]
  },
  {
   "cell_type": "markdown",
   "metadata": {},
   "source": [
    "## Ejercicio 3"
   ]
  },
  {
   "cell_type": "code",
   "execution_count": 13,
   "metadata": {},
   "outputs": [
    {
     "name": "stdout",
     "output_type": "stream",
     "text": [
      "Se aproxima un asteroide !Se desintegrará entrando a la atmosfera \n"
     ]
    }
   ],
   "source": [
    "VelAsteroide=0  #Velocidad del asteroide\n",
    "TamAsteroide=1 #Tamaño del asteroide\n",
    "\n",
    "if TamAsteroide > 25 and VelAsteroide > 25:\n",
    "    print(\"Se aproxima un asteroide de gran tamaño y gran velocidad que causará mucho daño\")\n",
    "elif TamAsteroide < 25:\n",
    "    print(\"Se aproxima un asteroide !Se desintegrará entrando a la atmosfera \")\n",
    "elif VelAsteroide >=20:\n",
    "    print(\"En el cielo puedes ver la luz de un asteroide\")\n",
    "else:\n",
    "    print(\"Libre de asteroides\")\n",
    "\n"
   ]
  }
 ],
 "metadata": {
  "interpreter": {
   "hash": "b89b5cfaba6639976dc87ff2fec6d58faec662063367e2c229c520fe71072417"
  },
  "kernelspec": {
   "display_name": "Python 3.10.2 64-bit",
   "language": "python",
   "name": "python3"
  },
  "language_info": {
   "codemirror_mode": {
    "name": "ipython",
    "version": 3
   },
   "file_extension": ".py",
   "mimetype": "text/x-python",
   "name": "python",
   "nbconvert_exporter": "python",
   "pygments_lexer": "ipython3",
   "version": "3.10.2"
  },
  "orig_nbformat": 4
 },
 "nbformat": 4,
 "nbformat_minor": 2
}
