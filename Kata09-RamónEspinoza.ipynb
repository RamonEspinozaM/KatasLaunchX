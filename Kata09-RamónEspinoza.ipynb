{
 "cells": [
  {
   "cell_type": "markdown",
   "metadata": {},
   "source": [
    "## Ejercicio 1 - Uso de funciones en Python"
   ]
  },
  {
   "cell_type": "code",
   "execution_count": 7,
   "metadata": {},
   "outputs": [],
   "source": [
    "#Funcion de combustible \n",
    "def Combustible(Tanque1, Tanque2, Tanque3):\n",
    "    promedio=(Tanque1+Tanque2+Tanque3)/3\n",
    "    return f\"\"\"Niveles de combustible\n",
    "    Tanque1: {Tanque1}\n",
    "    Tanque2: {Tanque2}\n",
    "    Tanque3: {Tanque3}\n",
    "    El combustible promedio es: {promedio}\"\"\"\n"
   ]
  },
  {
   "cell_type": "code",
   "execution_count": 8,
   "metadata": {},
   "outputs": [
    {
     "name": "stdout",
     "output_type": "stream",
     "text": [
      "Niveles de combustible\n",
      "    Tanque1: 150%\n",
      "    Tanque2: 345%\n",
      "    Tanque3: 657%\n",
      "    El combustible promedio es: 384.0\n"
     ]
    }
   ],
   "source": [
    "#Llamando a la función \n",
    "print(Combustible(150,345,657))"
   ]
  },
  {
   "cell_type": "code",
   "execution_count": 9,
   "metadata": {},
   "outputs": [],
   "source": [
    "#Función promedio\n",
    "def promedio(Tanque1, Tanque2, Tanque3):\n",
    "    return(Tanque1+Tanque2+Tanque3)/3"
   ]
  },
  {
   "cell_type": "code",
   "execution_count": 14,
   "metadata": {},
   "outputs": [],
   "source": [
    "#Actualizando función combustible\n",
    "def Combustible(Tanque1, Tanque2, Tanque3):\n",
    "    return f\"\"\"Niveles de combustible\n",
    "    Tanque1: {Tanque1}\n",
    "    Tanque2: {Tanque2}\n",
    "    Tanque3: {Tanque3}\n",
    "    El combustible promedio es: {promedio(Tanque1,Tanque2,Tanque3)}\"\"\""
   ]
  },
  {
   "cell_type": "code",
   "execution_count": 13,
   "metadata": {},
   "outputs": [
    {
     "data": {
      "text/plain": [
       "'Niveles de combustible\\n    Tanque1: 500%\\n    Tanque2: 600%\\n    Tanque3: 900%\\n    El combustible promedio es: 666.6666666666666%'"
      ]
     },
     "execution_count": 13,
     "metadata": {},
     "output_type": "execute_result"
    }
   ],
   "source": [
    "Combustible(500,600,900)"
   ]
  },
  {
   "cell_type": "markdown",
   "metadata": {},
   "source": [
    "## Ejercicio 2 - Trabajo con argumentos de palabra clave"
   ]
  },
  {
   "cell_type": "code",
   "execution_count": 15,
   "metadata": {},
   "outputs": [],
   "source": [
    "#Funció de informe de mision \n",
    "def Informe(HoraLanzamiento, TVuelo, Destino, TanqueExterno, TanqueInterno):\n",
    "    return f\"\"\"Informe de Mision\n",
    "    Hora de lanzamiento: {HoraLanzamiento}\n",
    "    Tiempo de vuelo: {TVuelo}\n",
    "    Destino: {Destino}\n",
    "    Nivel tanque externo: {TanqueExterno}\n",
    "    Nivel tanque interno: {TanqueInterno}\"\"\""
   ]
  },
  {
   "cell_type": "code",
   "execution_count": 16,
   "metadata": {},
   "outputs": [
    {
     "name": "stdout",
     "output_type": "stream",
     "text": [
      "Informe de Mision\n",
      "    Hora de lanzamiento: 13\n",
      "    Tiempo de vuelo: 5\n",
      "    Destino: Jupiter\n",
      "    Nivel tanque externo: 133\n",
      "    Nivel tanque interno: 312\n"
     ]
    }
   ],
   "source": [
    "print(Informe(13, 5, \"Jupiter\", 133, 312))"
   ]
  },
  {
   "cell_type": "code",
   "execution_count": 17,
   "metadata": {},
   "outputs": [],
   "source": [
    "#Actualizando función de informe de mision\n",
    "def Informe(Destino, *Tiempo, **Combustible):\n",
    "    return f\"\"\"Informe de Mision\n",
    "    Tiempo total de vuelo: {sum(Tiempo)}\n",
    "    Destino: {Destino}\n",
    "    Combustible: {sum(Combustible.values())}\"\"\""
   ]
  },
  {
   "cell_type": "code",
   "execution_count": 18,
   "metadata": {},
   "outputs": [
    {
     "name": "stdout",
     "output_type": "stream",
     "text": [
      "Informe de Mision\n",
      "    Tiempo total de vuelo: 13\n",
      "    Destino: Alfa\n",
      "    Combustible: 8212\n"
     ]
    }
   ],
   "source": [
    "print(Informe(\"Alfa\", 5, 3,5, Int=4999, Ext=3213))"
   ]
  },
  {
   "cell_type": "code",
   "execution_count": 27,
   "metadata": {},
   "outputs": [],
   "source": [
    "#Actualizando función de informe de mision 2\n",
    "def Informe(Destino, *Tiempo, **Combustible):\n",
    "    Info= f\"\"\"Informe de Mision\n",
    "    Tiempo total de vuelo: {sum(Tiempo)}\n",
    "    Destino: {Destino}\n",
    "    Combustible: {sum(Combustible.values())}\n",
    "    \"\"\"\n",
    "    for tank_name, gallons in Combustible.items():\n",
    "        Info += f\"{tank_name} tanque --> {gallons} galones restantes\\n\"\n",
    "    return Info"
   ]
  },
  {
   "cell_type": "code",
   "execution_count": 28,
   "metadata": {},
   "outputs": [
    {
     "name": "stdout",
     "output_type": "stream",
     "text": [
      "Informe de Mision\n",
      "    Tiempo total de vuelo: 13\n",
      "    Destino: Alfa\n",
      "    Combustible: 8212\n",
      "    Int tanque --> 4999 galones restantes\n",
      "Ext tanque --> 3213 galones restantes\n",
      "\n"
     ]
    }
   ],
   "source": [
    "print(Informe(\"Alfa\", 5, 3,5, Int=4999, Ext=3213))"
   ]
  }
 ],
 "metadata": {
  "interpreter": {
   "hash": "b89b5cfaba6639976dc87ff2fec6d58faec662063367e2c229c520fe71072417"
  },
  "kernelspec": {
   "display_name": "Python 3.10.2 64-bit",
   "language": "python",
   "name": "python3"
  },
  "language_info": {
   "codemirror_mode": {
    "name": "ipython",
    "version": 3
   },
   "file_extension": ".py",
   "mimetype": "text/x-python",
   "name": "python",
   "nbconvert_exporter": "python",
   "pygments_lexer": "ipython3",
   "version": "3.10.2"
  },
  "orig_nbformat": 4
 },
 "nbformat": 4,
 "nbformat_minor": 2
}
