{
 "cells": [
  {
   "cell_type": "markdown",
   "metadata": {},
   "source": [
    "## Ejercicio 1 - Creación de un ciclo \"while\""
   ]
  },
  {
   "cell_type": "code",
   "execution_count": 1,
   "metadata": {},
   "outputs": [],
   "source": [
    "#Variable para almacenar y lista\n",
    "NuevoPlaneta=''\n",
    "Planetas=[]"
   ]
  },
  {
   "cell_type": "code",
   "execution_count": 2,
   "metadata": {},
   "outputs": [],
   "source": [
    "#Ciclo while\n",
    "while NuevoPlaneta.lower() != 'hecho':\n",
    "    if NuevoPlaneta:\n",
    "        Planetas.append(NuevoPlaneta)\n",
    "    NuevoPlaneta=input(\"Ingrese un planeta o escriba hecho si ha terminado\")"
   ]
  },
  {
   "cell_type": "markdown",
   "metadata": {},
   "source": [
    "## Ejercicio 2 - Creación de un ciclo \"for\""
   ]
  },
  {
   "cell_type": "code",
   "execution_count": 5,
   "metadata": {},
   "outputs": [
    {
     "name": "stdout",
     "output_type": "stream",
     "text": [
      "Los planetas en la lista son:\n",
      "Marte\n",
      "Tierra\n",
      "Jupiter\n",
      "Saturno\n"
     ]
    }
   ],
   "source": [
    "#Ciclo for para mostrar lo elementos de la lista\n",
    "print (\"Los planetas en la lista son:\")\n",
    "for Nplanetas in Planetas:\n",
    "    print(Nplanetas)"
   ]
  }
 ],
 "metadata": {
  "interpreter": {
   "hash": "b89b5cfaba6639976dc87ff2fec6d58faec662063367e2c229c520fe71072417"
  },
  "kernelspec": {
   "display_name": "Python 3.10.2 64-bit",
   "language": "python",
   "name": "python3"
  },
  "language_info": {
   "codemirror_mode": {
    "name": "ipython",
    "version": 3
   },
   "file_extension": ".py",
   "mimetype": "text/x-python",
   "name": "python",
   "nbconvert_exporter": "python",
   "pygments_lexer": "ipython3",
   "version": "3.10.2"
  },
  "orig_nbformat": 4
 },
 "nbformat": 4,
 "nbformat_minor": 2
}
